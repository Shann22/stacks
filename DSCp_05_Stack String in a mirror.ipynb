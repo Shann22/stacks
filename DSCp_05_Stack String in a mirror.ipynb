{
 "cells": [
  {
   "cell_type": "markdown",
   "id": "4844c258",
   "metadata": {},
   "source": [
    "### Stacks Mini-Project"
   ]
  },
  {
   "cell_type": "code",
   "execution_count": null,
   "id": "70f1863c",
   "metadata": {},
   "outputs": [],
   "source": [
    "class Stack:\n",
    "    def __init__(self):\n",
    "        self.stack = []\n",
    " \n",
    "    def pop(self):\n",
    "        if len(self.stack) < 1:\n",
    "            return None\n",
    "        return self.stack.pop()\n",
    " \n",
    "    def push(self, item):\n",
    "        self.stack.append(item)\n",
    " \n",
    "    def size(self):\n",
    "        return len(self.stack)"
   ]
  },
  {
   "cell_type": "code",
   "execution_count": 1,
   "id": "f8097bef",
   "metadata": {},
   "outputs": [
    {
     "name": "stdout",
     "output_type": "stream",
     "text": [
      "Awesome job!\n",
      "gnimmargorp\n"
     ]
    }
   ],
   "source": [
    "stack = []\n",
    "\n",
    "def push(stack, new_item):\n",
    "    stack.append(new_item)\n",
    "\n",
    "def pop(stack):\n",
    "    if len(stack) < 1:\n",
    "        return None\n",
    "    return stack.pop()\n",
    "\n",
    "def is_empty(stack):\n",
    "    if len(stack) == 0:\n",
    "        return True\n",
    "\n",
    "# def is_empty(stack):\n",
    "#     if stack == []:\n",
    "#         return True\n",
    "\n",
    "def size(stack):\n",
    "    return len(stack)\n",
    "\n",
    "#Do not change any code above this line.\n",
    "\n",
    "\n",
    "def reverse_string(string):\n",
    "    #We have defined the stack for you\n",
    "    stack = []\n",
    "    \n",
    "    for char in string:\n",
    "        push(stack, char) #push to stack\n",
    "\n",
    "    new_string = \"\"\n",
    "\n",
    "    while not is_empty(stack): #Check if the stack is empty\n",
    "        new_string += stack.pop() #pop the last element\n",
    "    return new_string\n",
    "\n",
    "\n",
    "# #Tests\n",
    "# #Do not change code below this line\n",
    "assert reverse_string(\"programming\") == \"gnimmargorp\"\n",
    "print(\"Awesome job!\")\n",
    "print(reverse_string(\"programming\"))"
   ]
  }
 ],
 "metadata": {
  "kernelspec": {
   "display_name": "Python 3 (ipykernel)",
   "language": "python",
   "name": "python3"
  },
  "language_info": {
   "codemirror_mode": {
    "name": "ipython",
    "version": 3
   },
   "file_extension": ".py",
   "mimetype": "text/x-python",
   "name": "python",
   "nbconvert_exporter": "python",
   "pygments_lexer": "ipython3",
   "version": "3.9.7"
  }
 },
 "nbformat": 4,
 "nbformat_minor": 5
}
